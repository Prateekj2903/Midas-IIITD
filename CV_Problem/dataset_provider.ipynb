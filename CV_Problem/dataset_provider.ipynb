{
 "cells": [
  {
   "cell_type": "code",
   "execution_count": 1,
   "metadata": {},
   "outputs": [
    {
     "name": "stderr",
     "output_type": "stream",
     "text": [
      "C:\\Users\\windo\\Anaconda3\\lib\\site-packages\\h5py\\__init__.py:36: FutureWarning: Conversion of the second argument of issubdtype from `float` to `np.floating` is deprecated. In future, it will be treated as `np.float64 == np.dtype(float).type`.\n",
      "  from ._conv import register_converters as _register_converters\n",
      "Using TensorFlow backend.\n"
     ]
    }
   ],
   "source": [
    "import numpy as np\n",
    "import pickle\n",
    "import os\n",
    "from sklearn.model_selection import train_test_split\n",
    "\n",
    "import keras\n",
    "from keras.models import Model\n",
    "from keras.layers import Conv2D, MaxPooling2D, Flatten, Dense, Dropout, Input\n",
    "from keras.utils import to_categorical"
   ]
  },
  {
   "cell_type": "code",
   "execution_count": 8,
   "metadata": {},
   "outputs": [],
   "source": [
    "class Dataset():\n",
    "    DATA_DIR_NAME = 'data'\n",
    "    TRAINING_IMG_FILENAME = 'train_image.pkl' \n",
    "    TRAINING_LABEL_FILENAME = 'train_label.pkl'\n",
    "    TESTING_IMG_FILENAME = 'test_image.pkl'\n",
    "    \n",
    "    def __init__(self, validation_size=0.2):\n",
    "        self.validation_size = validation_size\n",
    "        self.build()\n",
    "        \n",
    "    def build(self):\n",
    "        self.images = self.load_pickle(os.path.join(self.DATA_DIR_NAME, self.TRAINING_IMG_FILENAME))\n",
    "        self.labels = self.load_pickle(os.path.join(self.DATA_DIR_NAME, self.TRAINING_LABEL_FILENAME))\n",
    "        self.training_images, self.validation_images, self.training_labels, self.validation_labels = train_test_split(self.images, self.labels, test_size=self.validation_size)\n",
    "        \n",
    "        self.training_set = self.build_set(self.training_images, self.training_labels)\n",
    "        self.validation_set = self.build_set(self.validation_images, self.validation_labels)\n",
    "        self.test_set = self.load_pickle(os.path.join(self.DATA_DIR_NAME, self.TESTING_IMG_FILENAME))\n",
    "        \n",
    "    def build_set(self, images, labels):\n",
    "        return [images, labels]\n",
    "        \n",
    "    def load_pickle(self, filename, mode='rb'):\n",
    "        return np.array(pickle.load(open(filename, mode)))"
   ]
  },
  {
   "cell_type": "code",
   "execution_count": 9,
   "metadata": {},
   "outputs": [
    {
     "name": "stdout",
     "output_type": "stream",
     "text": [
      "(6400, 784) (1600, 784)\n",
      "(6400,) (1600,)\n"
     ]
    }
   ],
   "source": [
    "d = Dataset()\n",
    "print(d.training_set[0].shape, d.validation_set[0].shape)\n",
    "print(d.training_set[1].shape, d.validation_set[1].shape)"
   ]
  },
  {
   "cell_type": "code",
   "execution_count": 14,
   "metadata": {},
   "outputs": [],
   "source": [
    "class DatasetProvider():\n",
    "    def __init__(self, augment=False, validation_size=0.2, batch_size=32):\n",
    "        self.dataset = Dataset(validation_size)\n",
    "        self.augment = augment\n",
    "        self.batch_size = batch_size\n",
    "    \n",
    "    def training_set(self):\n",
    "        for batch in self.generate_batch(self.dataset.training_set):\n",
    "            yield batch\n",
    "    \n",
    "    def validation_set(self):\n",
    "        for batch in self.generate_batch(self.dataset.validation_set):\n",
    "            yield batch\n",
    "    \n",
    "    def generate_batch(self, img_label_set):\n",
    "        while True:\n",
    "            all_idx = np.arange(len(img_label_set[0]))\n",
    "            random_idx = np.random.choice(all_idx, size=self.batch_size)\n",
    "            random_img = img_label_set[0][random_idx]\n",
    "            random_label = img_label_set[1][random_idx]\n",
    "            yield self.preprocess_batch([random_img, random_label])\n",
    "            \n",
    "    def preprocess_batch(self, img_label_batch):\n",
    "        return self.preprocess_images(img_label_batch[0]), self.preprocess_labels(img_label_batch[1])\n",
    "    \n",
    "    def preprocess_images(self, imgs):\n",
    "        #TODO add augment code\n",
    "        imgs = imgs/255.\n",
    "        return np.reshape(imgs, (imgs.shape[0], 28, 28, 1))\n",
    "    \n",
    "    def preprocess_labels(self, labels):\n",
    "        labels[labels == 2] = 1\n",
    "        labels[labels == 3] = 2\n",
    "        labels[labels == 6] = 3\n",
    "        return to_categorical(labels, num_classes=4)"
   ]
  },
  {
   "cell_type": "code",
   "execution_count": null,
   "metadata": {},
   "outputs": [],
   "source": []
  },
  {
   "cell_type": "code",
   "execution_count": 15,
   "metadata": {},
   "outputs": [],
   "source": [
    "class ImageClassifierModel():\n",
    "    \n",
    "    def __init__(self):\n",
    "        #TODO\n",
    "        #initialize params and hyperparams'\n",
    "        self.a = 2\n",
    "        self.model = self.build()\n",
    "    \n",
    "    def build(self):\n",
    "        #TODO\n",
    "        #define model and build model\n",
    "        input_layer = Input(shape=(28, 28, 1))\n",
    "        x = Conv2D(filters=32, kernel_size=(5,5), activation='relu')(input_layer)\n",
    "        x = Conv2D(filters=32, kernel_size=(5,5), activation='relu')(x)\n",
    "\n",
    "        x = Dropout(0.7)(x)\n",
    "\n",
    "        x = Flatten()(x)\n",
    "        x = Dense(units=1024, activation='relu')(x)\n",
    "        x = Dense(units=512, activation='relu')(x)\n",
    "        output_layer = Dense(units=4, activation='softmax')(x)\n",
    "\n",
    "        model = Model(inputs=input_layer, outputs=output_layer)\n",
    "        \n",
    "        adam = keras.optimizers.Adam(lr=0.0001)\n",
    "        model.compile(optimizer=adam, loss='categorical_crossentropy', metrics=['accuracy'])\n",
    "        \n",
    "        return model\n",
    "    "
   ]
  },
  {
   "cell_type": "code",
   "execution_count": 16,
   "metadata": {},
   "outputs": [],
   "source": [
    "model = ImageClassifierModel()\n",
    "model = model.model\n",
    "dataset_provider = DatasetProvider()"
   ]
  },
  {
   "cell_type": "code",
   "execution_count": 17,
   "metadata": {},
   "outputs": [
    {
     "name": "stdout",
     "output_type": "stream",
     "text": [
      "Epoch 1/10\n",
      "200/200 [==============================] - 6s 28ms/step - loss: 0.7132 - acc: 0.7014 - val_loss: 0.5743 - val_acc: 0.7731\n",
      "Epoch 2/10\n",
      "200/200 [==============================] - 4s 22ms/step - loss: 0.5210 - acc: 0.7922 - val_loss: 0.5030 - val_acc: 0.8006\n",
      "Epoch 3/10\n",
      "200/200 [==============================] - 4s 22ms/step - loss: 0.4575 - acc: 0.8183 - val_loss: 0.4994 - val_acc: 0.8013\n",
      "Epoch 4/10\n",
      "200/200 [==============================] - 4s 22ms/step - loss: 0.4229 - acc: 0.8269 - val_loss: 0.4633 - val_acc: 0.8287\n",
      "Epoch 5/10\n",
      "200/200 [==============================] - 4s 22ms/step - loss: 0.3824 - acc: 0.8491 - val_loss: 0.4053 - val_acc: 0.8444\n",
      "Epoch 6/10\n",
      "200/200 [==============================] - 4s 22ms/step - loss: 0.3491 - acc: 0.8688 - val_loss: 0.4191 - val_acc: 0.8319\n",
      "Epoch 7/10\n",
      "200/200 [==============================] - 4s 22ms/step - loss: 0.3539 - acc: 0.8609 - val_loss: 0.4063 - val_acc: 0.8313\n",
      "Epoch 8/10\n",
      "200/200 [==============================] - 4s 22ms/step - loss: 0.3330 - acc: 0.8656 - val_loss: 0.3985 - val_acc: 0.8462\n",
      "Epoch 9/10\n",
      "200/200 [==============================] - 4s 22ms/step - loss: 0.3075 - acc: 0.8800 - val_loss: 0.4225 - val_acc: 0.8281\n",
      "Epoch 10/10\n",
      "200/200 [==============================] - 4s 22ms/step - loss: 0.2965 - acc: 0.8839 - val_loss: 0.3922 - val_acc: 0.8500\n"
     ]
    },
    {
     "data": {
      "text/plain": [
       "<keras.callbacks.History at 0x19896932c88>"
      ]
     },
     "execution_count": 17,
     "metadata": {},
     "output_type": "execute_result"
    }
   ],
   "source": [
    "model.fit_generator(dataset_provider.training_set(), steps_per_epoch=6400//32, epochs=10, validation_data=dataset_provider.validation_set(), validation_steps=1600//32)"
   ]
  },
  {
   "cell_type": "code",
   "execution_count": null,
   "metadata": {},
   "outputs": [],
   "source": []
  }
 ],
 "metadata": {
  "kernelspec": {
   "display_name": "Python 3",
   "language": "python",
   "name": "python3"
  },
  "language_info": {
   "codemirror_mode": {
    "name": "ipython",
    "version": 3
   },
   "file_extension": ".py",
   "mimetype": "text/x-python",
   "name": "python",
   "nbconvert_exporter": "python",
   "pygments_lexer": "ipython3",
   "version": "3.6.5"
  }
 },
 "nbformat": 4,
 "nbformat_minor": 2
}
