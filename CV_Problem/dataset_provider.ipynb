{
 "cells": [
  {
   "cell_type": "code",
   "execution_count": 6,
   "metadata": {},
   "outputs": [],
   "source": [
    "import numpy as np\n",
    "import pickle\n",
    "import os\n",
    "from sklearn.model_selection import train_test_split"
   ]
  },
  {
   "cell_type": "code",
   "execution_count": 19,
   "metadata": {},
   "outputs": [],
   "source": [
    "class Dataset():\n",
    "    DATA_DIR_NAME = 'data'\n",
    "    TRAINING_IMG_FILENAME = 'train_image.pkl' \n",
    "    TRAINING_LABEL_FILENAME = 'train_label.pkl'\n",
    "    TESTING_IMG_FILENAME = 'test_image.pkl'\n",
    "    \n",
    "    def __init__(self, validation_size=0.2):\n",
    "        self.validation_size = validation_size\n",
    "        self.build()\n",
    "        \n",
    "    def build(self):\n",
    "        self.images = self.load_pickle(os.path.join(self.DATA_DIR_NAME, self.TRAINING_IMG_FILENAME))\n",
    "        self.labels = self.load_pickle(os.path.join(self.DATA_DIR_NAME, self.TRAINING_LABEL_FILENAME))\n",
    "        self.training_images, self.validation_images, self.training_labels, self.validation_labels = train_test_split(self.images, self.labels, test_size=self.validation_size)\n",
    "        \n",
    "        self.training_set = self.build_set(self.training_images, self.training_labels)\n",
    "        self.validation_set = self.build_set(self.validation_images, self.validation_labels)\n",
    "        self.test_set = self.load_pickle(os.path.join(self.DATA_DIR_NAME, self.TESTING_IMG_FILENAME))\n",
    "        \n",
    "    def build_set(self, images, labels):\n",
    "        return [images, labels]\n",
    "        \n",
    "    def load_pickle(self, filename, mode='rb'):\n",
    "        return np.array(pickle.load(open(filename, mode)))"
   ]
  },
  {
   "cell_type": "code",
   "execution_count": 21,
   "metadata": {},
   "outputs": [
    {
     "name": "stdout",
     "output_type": "stream",
     "text": [
      "(6400, 784) (1600, 784)\n",
      "(6400,) (1600,)\n"
     ]
    }
   ],
   "source": [
    "d = Dataset()\n",
    "print(d.training_set[0].shape, d.validation_set[0].shape)\n",
    "print(d.training_set[1].shape, d.validation_set[1].shape)"
   ]
  },
  {
   "cell_type": "code",
   "execution_count": 20,
   "metadata": {},
   "outputs": [],
   "source": [
    "class DatasetProvider():\n",
    "    def __init__(self, augment=False, validation_size=0.2, batch_size=32):\n",
    "        self.dataset = Dataset(validation_size)\n",
    "        self.augment = augment\n",
    "        self.batch_size = batch_size\n",
    "    \n",
    "    def training_set(self):\n",
    "        for batch in self.generate_batch(self.dataset.training_set):\n",
    "            yield batch\n",
    "    \n",
    "    def generate_batch(self, img_label_set):\n",
    "        while True:\n",
    "            all_idx = np.arange(len(img_label_set[0]))\n",
    "            random_idx = np.random.choice(all_idx, size=self.batch_size)\n",
    "            random_img = img_label_set[0][random_idx]\n",
    "            random_label = img_label_set[1][random_idx]\n",
    "            yield self.preprocess_batch(random_img, random_label)\n",
    "            \n",
    "    def preprocess_batch(self, img, label):\n",
    "        "
   ]
  },
  {
   "cell_type": "code",
   "execution_count": null,
   "metadata": {},
   "outputs": [],
   "source": []
  },
  {
   "cell_type": "code",
   "execution_count": null,
   "metadata": {},
   "outputs": [],
   "source": [
    "class Model():\n",
    "    \n",
    "    def __init__(self):\n",
    "        #TODO\n",
    "        #initialize params and hyperparams\n",
    "    \n",
    "    def build(self):\n",
    "        #TODO\n",
    "        #define model and build model\n",
    "        return model\n",
    "    "
   ]
  },
  {
   "cell_type": "code",
   "execution_count": null,
   "metadata": {},
   "outputs": [],
   "source": [
    "model = Model()\n",
    "dataset_provider = DatasetProvider()"
   ]
  },
  {
   "cell_type": "code",
   "execution_count": null,
   "metadata": {},
   "outputs": [],
   "source": [
    "model.fit_generator(dataset_provider.generate_batch())"
   ]
  },
  {
   "cell_type": "code",
   "execution_count": null,
   "metadata": {},
   "outputs": [],
   "source": []
  }
 ],
 "metadata": {
  "kernelspec": {
   "display_name": "Python 3",
   "language": "python",
   "name": "python3"
  },
  "language_info": {
   "codemirror_mode": {
    "name": "ipython",
    "version": 3
   },
   "file_extension": ".py",
   "mimetype": "text/x-python",
   "name": "python",
   "nbconvert_exporter": "python",
   "pygments_lexer": "ipython3",
   "version": "3.6.5"
  }
 },
 "nbformat": 4,
 "nbformat_minor": 2
}
