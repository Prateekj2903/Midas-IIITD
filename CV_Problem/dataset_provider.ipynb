{
 "cells": [
  {
   "cell_type": "code",
   "execution_count": 8,
   "metadata": {},
   "outputs": [],
   "source": [
    "import numpy as np\n",
    "import pickle"
   ]
  },
  {
   "cell_type": "code",
   "execution_count": 19,
   "metadata": {},
   "outputs": [],
   "source": [
    "class Dataset():\n",
    "    TRAINING_IMG_FILENAME = 'train_image.pkl' \n",
    "    TRAINING_LABEL_FILENAME = 'train_label.pkl'\n",
    "    TESTING_IMG_FILENAME = 'test_image.pkl'\n",
    "    \n",
    "    def __init__(self):\n",
    "        self.training_images = self.load_pickle(self.TRAINING_IMG_FILENAME)\n",
    "        self.training_labels = self.load_pickle(self.TRAINING_LABEL_FILENAME)\n",
    "        self.test_images = self.load_pickle(self.TESTING_IMG_FILENAME)\n",
    "    \n",
    "    def load_pickle(self, filename, mode='rb'):\n",
    "        return np.array(pickle.load(open(filename, mode)))"
   ]
  },
  {
   "cell_type": "code",
   "execution_count": 20,
   "metadata": {},
   "outputs": [],
   "source": [
    "    "
   ]
  },
  {
   "cell_type": "code",
   "execution_count": null,
   "metadata": {},
   "outputs": [],
   "source": []
  },
  {
   "cell_type": "code",
   "execution_count": null,
   "metadata": {},
   "outputs": [],
   "source": []
  }
 ],
 "metadata": {
  "kernelspec": {
   "display_name": "Python 3",
   "language": "python",
   "name": "python3"
  },
  "language_info": {
   "codemirror_mode": {
    "name": "ipython",
    "version": 3
   },
   "file_extension": ".py",
   "mimetype": "text/x-python",
   "name": "python",
   "nbconvert_exporter": "python",
   "pygments_lexer": "ipython3",
   "version": "3.6.5"
  }
 },
 "nbformat": 4,
 "nbformat_minor": 2
}
